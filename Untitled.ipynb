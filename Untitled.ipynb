{
 "cells": [
  {
   "cell_type": "code",
   "execution_count": 1,
   "metadata": {},
   "outputs": [],
   "source": [
    "import numpy as np\n",
    "import pandas as pd\n",
    "import matplotlib.pyplot as plt\n",
    "from keras.models import load_model\n",
    "from sklearn.preprocessing import MinMaxScaler\n"
   ]
  },
  {
   "cell_type": "code",
   "execution_count": 2,
   "metadata": {},
   "outputs": [],
   "source": [
    "scalar=MinMaxScaler()"
   ]
  },
  {
   "cell_type": "code",
   "execution_count": 3,
   "metadata": {},
   "outputs": [
    {
     "name": "stdout",
     "output_type": "stream",
     "text": [
      "Model: \"sequential\"\n",
      "_________________________________________________________________\n",
      "Layer (type)                 Output Shape              Param #   \n",
      "=================================================================\n",
      "dense (Dense)                (None, 20)                140       \n",
      "_________________________________________________________________\n",
      "dropout (Dropout)            (None, 20)                0         \n",
      "_________________________________________________________________\n",
      "dense_1 (Dense)              (None, 20)                420       \n",
      "_________________________________________________________________\n",
      "dense_2 (Dense)              (None, 6)                 126       \n",
      "=================================================================\n",
      "Total params: 686\n",
      "Trainable params: 686\n",
      "Non-trainable params: 0\n",
      "_________________________________________________________________\n"
     ]
    }
   ],
   "source": [
    "model = load_model('model76.h5')\n",
    "model.summary()"
   ]
  },
  {
   "cell_type": "code",
   "execution_count": 8,
   "metadata": {},
   "outputs": [
    {
     "name": "stdout",
     "output_type": "stream",
     "text": [
      "enter the date of day whose weather you would like to predict 1\n",
      "enter the weather parameters of previous day\n",
      "Precipitation , Relative humidity, Surface pressure , MAX temp ,MIN_temp  ,Wind speed at 10M\n",
      "0\n",
      "47\n",
      "84\n",
      "15\n",
      "4\n",
      "2\n",
      "     0     1     2     3    4    5\n",
      "0  0.0  47.0  84.0  15.0  4.0  2.0\n",
      "[[3.4696236e-02 4.7381508e+01 8.4569870e+01 1.5362768e+01 4.2561340e+00\n",
      "  2.4685967e+00]]\n"
     ]
    }
   ],
   "source": [
    "a=input('enter the date of day whose weather you would like to predict ')\n",
    "print('enter the weather parameters of previous day')\n",
    "a=[]\n",
    "print('Precipitation , Relative humidity, Surface pressure , MAX temp ,MIN_temp  ,Wind speed at 10M' )\n",
    "#Precipitation , Relative humidity, Surface pressure , MAX temp ,MIN_temp  ,Wind speed at 10M \n",
    "for i in range(0,6):\n",
    " a.append(float(input()))\n",
    "a=np.array(a) \n",
    "a.shape=(1,6)\n",
    "a=pd.DataFrame(a) \n",
    "print(a)\n",
    "a2=scalar.fit_transform(a)\n",
    "ans1=model.predict(a2)\n",
    "ans2=scalar.inverse_transform(ans1)\n",
    "print(ans2)"
   ]
  },
  {
   "cell_type": "markdown",
   "metadata": {},
   "source": []
  },
  {
   "cell_type": "code",
   "execution_count": null,
   "metadata": {},
   "outputs": [],
   "source": []
  },
  {
   "cell_type": "code",
   "execution_count": null,
   "metadata": {},
   "outputs": [],
   "source": []
  }
 ],
 "metadata": {
  "kernelspec": {
   "display_name": "Python 3",
   "language": "python",
   "name": "python3"
  },
  "language_info": {
   "codemirror_mode": {
    "name": "ipython",
    "version": 3
   },
   "file_extension": ".py",
   "mimetype": "text/x-python",
   "name": "python",
   "nbconvert_exporter": "python",
   "pygments_lexer": "ipython3",
   "version": "3.8.5"
  }
 },
 "nbformat": 4,
 "nbformat_minor": 4
}
